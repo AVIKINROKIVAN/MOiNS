{
  "nbformat": 4,
  "nbformat_minor": 0,
  "metadata": {
    "colab": {
      "provenance": [],
      "authorship_tag": "ABX9TyOJ7M/3rZ2C1Pj2ygMzzZfI",
      "include_colab_link": true
    },
    "kernelspec": {
      "name": "python3",
      "display_name": "Python 3"
    },
    "language_info": {
      "name": "python"
    }
  },
  "cells": [
    {
      "cell_type": "markdown",
      "metadata": {
        "id": "view-in-github",
        "colab_type": "text"
      },
      "source": [
        "<a href=\"https://colab.research.google.com/github/AVIKINROKIVAN/MOiNS/blob/main/CNN.ipynb\" target=\"_parent\"><img src=\"https://colab.research.google.com/assets/colab-badge.svg\" alt=\"Open In Colab\"/></a>"
      ]
    },
    {
      "cell_type": "markdown",
      "source": [
        "Двумерная сверточная нейронная сеть\n",
        "\n",
        "Двумерная свертка (2D convolution) — это довольно простая операция: начинаем с ядра, представляющего из себя матрицу весов (weight matrix). Ядро “скользит” над двумерным изображением, поэлементно выполняя операцию умножения с той частью входных данных, над которой оно сейчас находится, и затем суммирует все полученные значения в один выходной пиксель.\n",
        "\n",
        "Ядро повторяет эту процедуру с каждой локацией, над которой оно “скользит”, преобразуя двумерную матрицу в другую все еще двумерную матрицу признаков. Признаки на выходе являются взвешенными суммами (где веса являются значениями самого ядра) признаков на входе, расположенных примерно в том же месте, что и выходной пиксель на входном слое.\n",
        "\n",
        "Независимо от того, попадает ли входной признак в “примерно то же место”, он определяется в зависимости от того, находится он в зоне ядра, создающего выходные данные, или нет. Это значит, что размер ядра сверточной нейронной сети определяет количество признаков, которые будут объединены для получения нового признака на выходе.\n",
        "\n",
        "Более подробно см. (https://neurohive.io/ru/osnovy-data-science/glubokaya-svertochnaja-nejronnaja-set/)"
      ],
      "metadata": {
        "id": "C5RRiHnmOG7m"
      }
    },
    {
      "cell_type": "code",
      "source": [
        "import tensorflow as tf\n",
        "from google.colab import drive\n",
        "import matplotlib.pyplot as plt\n",
        "\n",
        "drive.mount('/content/drive')\n",
        "img_path = '/content/drive/MyDrive/cat.png'\n",
        "\n",
        "image_raw = tf.io.read_file(img_path)\n",
        "image_tf = tf.io.decode_image(image_raw)\n",
        "image_tf = tf.image.rgb_to_grayscale(image_tf)\n",
        "\n",
        "image_tf = tf.expand_dims(image_tf, axis=0)\n",
        "image_tf = tf.cast(image_tf, tf.float32)\n",
        "\n",
        "filter_tf = tf.constant([[[[1]], [[0]]], [[[0]], [[1]]]], dtype=tf.float32)\n",
        "\n",
        "output_tf = tf.nn.conv2d(input=image_tf, filters=filter_tf, strides=[1, 1, 1, 1], padding='VALID')\n",
        "\n",
        "print(output_tf.numpy().squeeze())\n",
        "\n",
        "plt.figure(figsize=(8, 4))\n",
        "plt.subplot(1, 2, 1)\n",
        "plt.imshow(image_tf.numpy().squeeze(), cmap='gray')\n",
        "plt.title('Исходник')\n",
        "\n",
        "plt.subplot(1, 2, 2)\n",
        "plt.imshow(output_tf.numpy().squeeze(), cmap='gray')\n",
        "plt.title('Результат')\n",
        "\n",
        "plt.show()"
      ],
      "metadata": {
        "id": "fEDxsQi1Nlr_"
      },
      "execution_count": null,
      "outputs": []
    }
  ]
}